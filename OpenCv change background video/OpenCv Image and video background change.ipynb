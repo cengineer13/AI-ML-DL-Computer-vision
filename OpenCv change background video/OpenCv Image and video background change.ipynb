{
 "cells": [
  {
   "cell_type": "markdown",
   "id": "7322301c",
   "metadata": {},
   "source": [
    "# 3 Project in One\n",
    "\n",
    "\n"
   ]
  },
  {
   "cell_type": "code",
   "execution_count": 15,
   "id": "e5ab3954",
   "metadata": {},
   "outputs": [],
   "source": [
    "import numpy as np\n",
    "import cv2"
   ]
  },
  {
   "cell_type": "markdown",
   "id": "c9446951",
   "metadata": {},
   "source": [
    "### 1. Video background to image "
   ]
  },
  {
   "cell_type": "code",
   "execution_count": 8,
   "id": "f845b138",
   "metadata": {},
   "outputs": [],
   "source": [
    "video = cv2.VideoCapture('Road For Hot Wheels.mp4')\n",
    "image = cv2.imread(\"car_green_screen.jpg\")\n",
    "\n",
    "\n",
    "while video.isOpened():\n",
    "    \n",
    "    ret, frame = video.read()\n",
    "      \n",
    "    #Foreground image setting color diapazon\n",
    "    image_copy = np.copy(image) #Copy from orginal image not to interact\n",
    "    image_copy = np.fliplr(image_copy) #Rotate image for fitting to video\n",
    "    \n",
    "    green_start = np.array([0,200,0])\n",
    "    green_end = np.array([200,255,200])\n",
    "    \n",
    "    cv2.imshow(\"orginal_image\", image)\n",
    "    \n",
    "    \n",
    "    #create a mask \n",
    "    mask = cv2.inRange(image_copy,green_start, green_end)\n",
    "    \n",
    "    #Set image background side to black = 0,0,0\n",
    "    image_copy[mask!=0]=[0,0,0]\n",
    "    \n",
    "    #Set video frame as background and fit size to foreground size \n",
    "    frame = frame[:450,:660] \n",
    "    cv2.imshow(\"orginal_video\", frame)\n",
    "    ##Extract foreground side from backgorund and equl to black = 0,0,0\n",
    "    frame[mask==0] = [0,0,0]\n",
    "\n",
    "    \n",
    "    #Add foreground and new background\n",
    "    result = image_copy + frame\n",
    "    \n",
    "    cv2.imshow(\"Result\", result)\n",
    "    \n",
    "    \n",
    "    if cv2.waitKey(1) & 0xFF == ord('q'): \n",
    "        break\n",
    "        \n",
    "video.release()\n",
    "cv2.destroyAllWindows()\n"
   ]
  },
  {
   "cell_type": "code",
   "execution_count": null,
   "id": "7ab7b83c",
   "metadata": {},
   "outputs": [],
   "source": [
    "###########################################################################"
   ]
  },
  {
   "cell_type": "markdown",
   "id": "3f9b1e9b",
   "metadata": {},
   "source": [
    "### 2. Image to video background"
   ]
  },
  {
   "cell_type": "code",
   "execution_count": 2,
   "id": "9d82fdbe",
   "metadata": {},
   "outputs": [],
   "source": [
    "import numpy as np\n",
    "import cv2\n"
   ]
  },
  {
   "cell_type": "code",
   "execution_count": 7,
   "id": "a0d59662",
   "metadata": {},
   "outputs": [],
   "source": [
    "video = cv2.VideoCapture('tiger_green_screen.mp4')\n",
    "\n",
    "\n",
    "while video.isOpened():\n",
    "    \n",
    "    ret, frame = video.read()\n",
    "    foreground = np.copy(frame)\n",
    "    cv2.imshow(\"orginal video\", foreground)\n",
    "    \n",
    "    #Foreground image setting color diapazon\n",
    "    green_start = np.array([0,255,0])\n",
    "    green_end = np.array([250,255,250])\n",
    "    \n",
    "\n",
    "    \n",
    "    #Create a mask \n",
    "    mask = cv2.inRange(foreground, green_start, green_end)\n",
    "    \n",
    "    #Set image background side to black = 0,0,0\n",
    "    foreground[mask!=0] = [0,0,0]\n",
    "        \n",
    "    background = cv2.imread('forest.jpg')    \n",
    "    cv2.imshow(\"orginal background img\", background)\n",
    "    #Set BACKGROUND fit size to foreground VIDEO size \n",
    "    background = background[:720,:1280]\n",
    "    \n",
    "    ##Extract foreground side from backgorund and equl to black = 0,0,0\n",
    "    background[mask==0] = [0,0,0]\n",
    "    \n",
    "    result = foreground + background \n",
    "    cv2.imshow(\"result\", result)\n",
    "    \n",
    "    \n",
    "    \n",
    "    if cv2.waitKey(1) & 0xFF==ord('q'):\n",
    "        break\n",
    "        \n",
    "        \n",
    "video.release()\n",
    "cv2.destroyAllWindows()"
   ]
  },
  {
   "cell_type": "code",
   "execution_count": 17,
   "id": "a7451ce2",
   "metadata": {},
   "outputs": [],
   "source": [
    "########################################"
   ]
  },
  {
   "cell_type": "markdown",
   "id": "1ac21cec",
   "metadata": {},
   "source": [
    "### 3. Video to video background"
   ]
  },
  {
   "cell_type": "code",
   "execution_count": 2,
   "id": "7fa85e1a",
   "metadata": {},
   "outputs": [],
   "source": [
    "import numpy as np\n",
    "import cv2"
   ]
  },
  {
   "cell_type": "code",
   "execution_count": 30,
   "id": "4127a52d",
   "metadata": {},
   "outputs": [],
   "source": [
    "background_video = cv2.VideoCapture(\"tiger_green_screen.mp4\")\n",
    "foreground_video = cv2.VideoCapture('Beautiful sea background.mp4')\n",
    "\n",
    "green_start = np.uint8([0,255,0])\n",
    "green_end = np.uint8([230,255,230])\n",
    "\n",
    "while background_video.isOpened():\n",
    "    \n",
    "    _, frame = background_video.read()\n",
    "    _, kadr = foreground_video.read()\n",
    "\n",
    "    background = np.copy(frame)\n",
    "    foreground = np.copy(kadr)\n",
    "    \n",
    "    cv2.imshow(\"background video\", background)\n",
    "    cv2.imshow(\"foreground video\", foreground)\n",
    "    \n",
    "    #Create a mask \n",
    "    mask = cv2.inRange(background,green_start, green_end)\n",
    "    \n",
    "    background[mask!=0] = [0,0,0]\n",
    "    foreground[mask==0] = [0,0,0]\n",
    "    \n",
    "    result = background+foreground\n",
    "    \n",
    "    cv2.imshow(\"result\", result)\n",
    "\n",
    "\n",
    "      \n",
    "    if cv2.waitKey(1) & 0xFF == ord('q'): \n",
    "        break\n",
    "        \n",
    "        \n",
    "background_video.release()\n",
    "cv2.destroyAllWindows()"
   ]
  },
  {
   "cell_type": "code",
   "execution_count": null,
   "id": "828217dc",
   "metadata": {},
   "outputs": [],
   "source": []
  }
 ],
 "metadata": {
  "kernelspec": {
   "display_name": "Python 3",
   "language": "python",
   "name": "python3"
  },
  "language_info": {
   "codemirror_mode": {
    "name": "ipython",
    "version": 3
   },
   "file_extension": ".py",
   "mimetype": "text/x-python",
   "name": "python",
   "nbconvert_exporter": "python",
   "pygments_lexer": "ipython3",
   "version": "3.8.8"
  }
 },
 "nbformat": 4,
 "nbformat_minor": 5
}
